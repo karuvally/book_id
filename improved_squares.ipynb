{
 "cells": [
  {
   "cell_type": "code",
   "execution_count": 92,
   "metadata": {},
   "outputs": [],
   "source": [
    "# import the serious stuff\n",
    "import numpy as np\n",
    "import matplotlib.pyplot as plt\n",
    "import matplotlib\n",
    "\n",
    "from keras.models import Sequential\n",
    "from keras.layers import Dense, Activation, Dropout\n",
    "from keras.optimizers import SGD\n",
    "\n",
    "import keras\n",
    "from IPython.display import SVG\n",
    "from keras.utils.vis_utils import model_to_dot"
   ]
  },
  {
   "cell_type": "code",
   "execution_count": 93,
   "metadata": {},
   "outputs": [],
   "source": [
    "# create random images\n",
    "no_of_images = 50000\n",
    "image_size = 8\n",
    "min_object_size = 1\n",
    "max_object_size = 4\n",
    "no_of_objects = 1 # number of squares in an image\n",
    "\n",
    "# stores list of boundary of every object\n",
    "bounding_boxes = np.zeros((no_of_images, no_of_objects, 4))\n",
    "\n",
    "# list of images\n",
    "images = np.zeros((no_of_images, image_size, image_size))\n",
    "\n",
    "for i_image in range(no_of_images):\n",
    "    for i_object in range(no_of_objects):\n",
    "        # size is the no of random variables to be generated\n",
    "        w, h = np.random.randint(min_object_size, max_object_size, size=2)\n",
    "        x = np.random.randint(0, image_size - w)\n",
    "        y = np.random.randint(0, image_size - h)\n",
    "        images[i_image, x:x+w, y:y+h] = 1.\n",
    "        bounding_boxes[i_image, i_object] = [x, y, w, h]"
   ]
  },
  {
   "cell_type": "code",
   "execution_count": 94,
   "metadata": {},
   "outputs": [
    {
     "data": {
      "image/png": "[encoded data removed]",
      "text/plain": [
       "<Figure size 432x288 with 1 Axes>"
      ]
     },
     "metadata": {},
     "output_type": "display_data"
    }
   ],
   "source": [
    "# debug\n",
    "# .T does diagonal transform\n",
    "plt.imshow(images[0].T, cmap='Greys', interpolation='none', origin='lower', extent=[0, image_size, 0, image_size])\n",
    "for bounding_box in bounding_boxes[0]:\n",
    "    # apparently draws bounding boxes\n",
    "    plt.gca().add_patch(matplotlib.patches.Rectangle((bounding_box[0], bounding_box[1]), bounding_box[2], bounding_box[3], ec='r', fc='none'))"
   ]
  },
  {
   "cell_type": "code",
   "execution_count": 95,
   "metadata": {},
   "outputs": [
    {
     "name": "stdout",
     "output_type": "stream",
     "text": [
      "(50000, 64) -0.19558601861594122 0.24189193860262787\n",
      "(50000, 4) 0.281231875 0.17545153706646283\n"
     ]
    }
   ],
   "source": [
    "# normalize data to mean 0 and std 1, -1 means dimension is unknown\n",
    "X = (images.reshape(no_of_images, -1) - np.mean(images) / np.std(images))\n",
    "print(X.shape, np.mean(X), np.std(X))\n",
    "\n",
    "# normalize x, y, w, h by image_size, so all values are between 0 and 1\n",
    "y = bounding_boxes.reshape(no_of_images, -1) / image_size\n",
    "print(y.shape, np.mean(y), np.std(y))"
   ]
  },
  {
   "cell_type": "code",
   "execution_count": 96,
   "metadata": {},
   "outputs": [],
   "source": [
    "# split training and test dataset\n",
    "split = int(0.8 * no_of_images)\n",
    "train_X = X[:split]\n",
    "test_X = X[split:]\n",
    "train_y = y[:split]\n",
    "test_y = y[split:]\n",
    "\n",
    "# test images\n",
    "test_images = images[split:]\n",
    "test_boxes = bounding_boxes[split:]"
   ]
  },
  {
   "cell_type": "code",
   "execution_count": 97,
   "metadata": {},
   "outputs": [],
   "source": [
    "# build the model\n",
    "model = Sequential([\n",
    "    Dense(300, input_dim=X.shape[-1]),\n",
    "    Activation('relu'),\n",
    "    Dropout(0.2),\n",
    "    Dense(y.shape[-1])\n",
    "])\n",
    "model.compile('adadelta', 'mse')"
   ]
  },
  {
   "cell_type": "code",
   "execution_count": 98,
   "metadata": {},
   "outputs": [],
   "source": [
    "# visualization\n",
    "callback = keras.callbacks.TensorBoard(log_dir='./graph',\n",
    "                                      histogram_freq=0,\n",
    "                                      write_graph=True,\n",
    "                                      write_images=True)"
   ]
  },
  {
   "cell_type": "code",
   "execution_count": 99,
   "metadata": {},
   "outputs": [
    {
     "name": "stdout",
     "output_type": "stream",
     "text": [
      "Train on 40000 samples, validate on 10000 samples\n",
      "Epoch 1/50\n",
      " - 2s - loss: 0.0053 - val_loss: 0.0010\n",
      "Epoch 2/50\n",
      " - 2s - loss: 0.0020 - val_loss: 5.8135e-04\n",
      "Epoch 3/50\n",
      " - 2s - loss: 0.0014 - val_loss: 3.6782e-04\n",
      "Epoch 4/50\n",
      " - 2s - loss: 0.0011 - val_loss: 2.9965e-04\n",
      "Epoch 5/50\n",
      " - 2s - loss: 9.7681e-04 - val_loss: 2.0127e-04\n",
      "Epoch 6/50\n",
      " - 2s - loss: 8.5542e-04 - val_loss: 1.5217e-04\n",
      "Epoch 7/50\n",
      " - 2s - loss: 7.6628e-04 - val_loss: 1.1508e-04\n",
      "Epoch 8/50\n",
      " - 3s - loss: 7.0635e-04 - val_loss: 1.2354e-04\n",
      "Epoch 9/50\n",
      " - 2s - loss: 6.6948e-04 - val_loss: 9.7753e-05\n",
      "Epoch 10/50\n",
      " - 2s - loss: 6.3566e-04 - val_loss: 8.1403e-05\n",
      "Epoch 11/50\n",
      " - 3s - loss: 6.0432e-04 - val_loss: 5.8302e-05\n",
      "Epoch 12/50\n",
      " - 2s - loss: 5.8313e-04 - val_loss: 5.6859e-05\n",
      "Epoch 13/50\n",
      " - 2s - loss: 5.6334e-04 - val_loss: 4.5229e-05\n",
      "Epoch 14/50\n",
      " - 2s - loss: 5.4491e-04 - val_loss: 6.2856e-05\n",
      "Epoch 15/50\n",
      " - 2s - loss: 5.2878e-04 - val_loss: 6.6595e-05\n",
      "Epoch 16/50\n",
      " - 2s - loss: 5.1318e-04 - val_loss: 3.8412e-05\n",
      "Epoch 17/50\n",
      " - 2s - loss: 5.0375e-04 - val_loss: 4.4266e-05\n",
      "Epoch 18/50\n",
      " - 2s - loss: 4.8571e-04 - val_loss: 3.5542e-05\n",
      "Epoch 19/50\n",
      " - 2s - loss: 4.8137e-04 - val_loss: 4.1641e-05\n",
      "Epoch 20/50\n",
      " - 2s - loss: 4.7443e-04 - val_loss: 4.2743e-05\n",
      "Epoch 21/50\n",
      " - 2s - loss: 4.6772e-04 - val_loss: 3.6531e-05\n",
      "Epoch 22/50\n",
      " - 2s - loss: 4.5587e-04 - val_loss: 3.4755e-05\n",
      "Epoch 23/50\n",
      " - 2s - loss: 4.5113e-04 - val_loss: 3.2301e-05\n",
      "Epoch 24/50\n",
      " - 3s - loss: 4.4776e-04 - val_loss: 2.8842e-05\n",
      "Epoch 25/50\n",
      " - 2s - loss: 4.3969e-04 - val_loss: 2.5878e-05\n",
      "Epoch 26/50\n",
      " - 2s - loss: 4.3714e-04 - val_loss: 2.5463e-05\n",
      "Epoch 27/50\n",
      " - 2s - loss: 4.2946e-04 - val_loss: 4.3848e-05\n",
      "Epoch 28/50\n",
      " - 2s - loss: 4.2419e-04 - val_loss: 2.7772e-05\n",
      "Epoch 29/50\n",
      " - 2s - loss: 4.2296e-04 - val_loss: 4.4562e-05\n",
      "Epoch 30/50\n",
      " - 2s - loss: 4.1738e-04 - val_loss: 2.8154e-05\n",
      "Epoch 31/50\n",
      " - 2s - loss: 4.1493e-04 - val_loss: 2.7839e-05\n",
      "Epoch 32/50\n",
      " - 2s - loss: 4.1126e-04 - val_loss: 4.8853e-05\n",
      "Epoch 33/50\n",
      " - 2s - loss: 4.0974e-04 - val_loss: 2.7754e-05\n",
      "Epoch 34/50\n",
      " - 2s - loss: 4.0599e-04 - val_loss: 2.4384e-05\n",
      "Epoch 35/50\n",
      " - 2s - loss: 4.0117e-04 - val_loss: 2.2579e-05\n",
      "Epoch 36/50\n",
      " - 2s - loss: 3.9776e-04 - val_loss: 3.7955e-05\n",
      "Epoch 37/50\n",
      " - 2s - loss: 3.9660e-04 - val_loss: 2.4989e-05\n",
      "Epoch 38/50\n",
      " - 2s - loss: 3.9466e-04 - val_loss: 2.3299e-05\n",
      "Epoch 39/50\n",
      " - 2s - loss: 3.8830e-04 - val_loss: 2.1576e-05\n",
      "Epoch 40/50\n",
      " - 2s - loss: 3.8789e-04 - val_loss: 4.0362e-05\n",
      "Epoch 41/50\n",
      " - 2s - loss: 3.8669e-04 - val_loss: 2.6042e-05\n",
      "Epoch 42/50\n",
      " - 3s - loss: 3.8329e-04 - val_loss: 2.3956e-05\n",
      "Epoch 43/50\n",
      " - 3s - loss: 3.8132e-04 - val_loss: 1.7479e-05\n",
      "Epoch 44/50\n",
      " - 3s - loss: 3.8157e-04 - val_loss: 4.0205e-05\n",
      "Epoch 45/50\n",
      " - 3s - loss: 3.7797e-04 - val_loss: 2.3877e-05\n",
      "Epoch 46/50\n",
      " - 3s - loss: 3.7590e-04 - val_loss: 2.7686e-05\n",
      "Epoch 47/50\n",
      " - 3s - loss: 3.7555e-04 - val_loss: 3.5257e-05\n",
      "Epoch 48/50\n",
      " - 3s - loss: 3.7203e-04 - val_loss: 2.1066e-05\n",
      "Epoch 49/50\n",
      " - 3s - loss: 3.6996e-04 - val_loss: 3.0112e-05\n",
      "Epoch 50/50\n",
      " - 3s - loss: 3.6971e-04 - val_loss: 2.2062e-05\n"
     ]
    },
    {
     "data": {
      "text/plain": [
       "<keras.callbacks.History at 0x7fc248c99eb8>"
      ]
     },
     "execution_count": 99,
     "metadata": {},
     "output_type": "execute_result"
    }
   ],
   "source": [
    "# train the model\n",
    "model.fit(train_X, train_y, epochs=50, validation_data=(test_X, test_y), verbose=2, callbacks=[callback])"
   ]
  },
  {
   "cell_type": "code",
   "execution_count": 100,
   "metadata": {},
   "outputs": [
    {
     "data": {
      "text/plain": [
       "(10000, 1, 4)"
      ]
     },
     "execution_count": 100,
     "metadata": {},
     "output_type": "execute_result"
    }
   ],
   "source": [
    "# predict bounding boxes for test data\n",
    "predicted_y = model.predict(test_X)\n",
    "predicted_boxes = predicted_y * image_size\n",
    "predicted_boxes = predicted_boxes.reshape(len(predicted_boxes), no_of_objects, -1)\n",
    "predicted_boxes.shape"
   ]
  },
  {
   "cell_type": "code",
   "execution_count": 101,
   "metadata": {},
   "outputs": [],
   "source": [
    "# calculate overlap between two bounding boxes\n",
    "def IOU(box_1, box_2):\n",
    "    x1, y1, w1, h1 = box_1[0], box_1[1], box_1[2], box_1[3]\n",
    "    x2, y2, w2, h2 = box_2[0], box_2[1], box_2[2], box_2[3]\n",
    "    \n",
    "    w_I = min(x1 + w1, x2 + w2) - max(x1, x2)\n",
    "    h_I = min(y1 + h1, y2 + h2) - max(y1, y2)\n",
    "    \n",
    "    if w_I <= 0 or h_I <= 0: # no overlap\n",
    "        return 0\n",
    "    \n",
    "    I = w_I * h_I\n",
    "    U = w1 * h1 + w2 * h2 - I\n",
    "    \n",
    "    return I/U"
   ]
  },
  {
   "cell_type": "code",
   "execution_count": 102,
   "metadata": {},
   "outputs": [
    {
     "data": {
      "image/png": "[encoded data removed]",
      "text/plain": [
       "<Figure size 864x216 with 4 Axes>"
      ]
     },
     "metadata": {},
     "output_type": "display_data"
    }
   ],
   "source": [
    "# draw sample predictions\n",
    "plt.figure(figsize=(12, 3))\n",
    "for i_subplot in range(1, 5):\n",
    "    plt.subplot(1, 4, i_subplot)\n",
    "    i = np.random.randint(len(test_images))\n",
    "    plt.imshow(test_images[i].T, cmap='Greys', interpolation='none', origin='lower', extent=[0, image_size, 0, image_size])\n",
    "    \n",
    "    for predicted_box, expected_box in zip(predicted_boxes[i], test_boxes[i]):\n",
    "        plt.gca().add_patch(matplotlib.patches.Rectangle((predicted_box[0], predicted_box[1]), predicted_box[2], predicted_box[3], ec='r', fc='none'))\n",
    "        plt.annotate('IOU: {:.2f}'.format(IOU(predicted_box, expected_box)), (predicted_box[0], predicted_box[1] + predicted_box[3] + 0.2), color='r')"
   ]
  },
  {
   "cell_type": "code",
   "execution_count": 103,
   "metadata": {},
   "outputs": [
    {
     "name": "stdout",
     "output_type": "stream",
     "text": [
      "0.9178828518838292\n"
     ]
    }
   ],
   "source": [
    "# mean IOU\n",
    "summed_IOU = 0\n",
    "for predicted_box, test_box in zip(predicted_boxes.reshape(-1, 4), test_boxes.reshape(-1, 4)):\n",
    "    summed_IOU += IOU(predicted_box, test_box)\n",
    "\n",
    "mean_IOU = summed_IOU / len(predicted_boxes)\n",
    "print(mean_IOU)"
   ]
  },
  {
   "cell_type": "code",
   "execution_count": 104,
   "metadata": {},
   "outputs": [],
   "source": [
    "# visualize the model\n",
    "# SVG(model_to_dot(model).create(prog='dot', format='svg'))"
   ]
  }
 ],
 "metadata": {
  "kernelspec": {
   "display_name": "Python 3",
   "language": "python",
   "name": "python3"
  },
  "language_info": {
   "codemirror_mode": {
    "name": "ipython",
    "version": 3
   },
   "file_extension": ".py",
   "mimetype": "text/x-python",
   "name": "python",
   "nbconvert_exporter": "python",
   "pygments_lexer": "ipython3",
   "version": "3.5.3"
  }
 },
 "nbformat": 4,
 "nbformat_minor": 2
}
