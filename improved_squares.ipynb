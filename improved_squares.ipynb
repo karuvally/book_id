{
 "cells": [
  {
   "cell_type": "code",
   "execution_count": 1,
   "metadata": {},
   "outputs": [
    {
     "name": "stderr",
     "output_type": "stream",
     "text": [
      "/home/aswin/project/book_id/lib/python3.5/site-packages/h5py/__init__.py:36: FutureWarning: Conversion of the second argument of issubdtype from `float` to `np.floating` is deprecated. In future, it will be treated as `np.float64 == np.dtype(float).type`.\n",
      "  from ._conv import register_converters as _register_converters\n",
      "Using TensorFlow backend.\n"
     ]
    }
   ],
   "source": [
    "# import the serious stuff\n",
    "import numpy as np\n",
    "import matplotlib.pyplot as plt\n",
    "import matplotlib\n",
    "\n",
    "from keras.models import Sequential\n",
    "from keras.layers import Dense, Activation, Dropout\n",
    "from keras.optimizers import SGD\n",
    "\n",
    "import keras\n",
    "from IPython.display import SVG\n",
    "from keras.utils.vis_utils import model_to_dot"
   ]
  },
  {
   "cell_type": "code",
   "execution_count": 2,
   "metadata": {},
   "outputs": [],
   "source": [
    "# create random images\n",
    "no_of_images = 50000\n",
    "image_size = 8\n",
    "min_object_size = 1\n",
    "max_object_size = 4\n",
    "no_of_objects = 1 # number of squares in an image\n",
    "\n",
    "# stores list of boundary of every object\n",
    "bounding_boxes = np.zeros((no_of_images, no_of_objects, 4))\n",
    "\n",
    "# list of images\n",
    "images = np.zeros((no_of_images, image_size, image_size))\n",
    "\n",
    "for i_image in range(no_of_images):\n",
    "    for i_object in range(no_of_objects):\n",
    "        # size is the no of random variables to be generated\n",
    "        w, h = np.random.randint(min_object_size, max_object_size, size=2)\n",
    "        x = np.random.randint(0, image_size - w)\n",
    "        y = np.random.randint(0, image_size - h)\n",
    "        images[i_image, x:x+w, y:y+h] = 1.\n",
    "        bounding_boxes[i_image, i_object] = [x, y, w, h]"
   ]
  },
  {
   "cell_type": "code",
   "execution_count": 3,
   "metadata": {},
   "outputs": [
    {
     "data": {
      "image/png": "[encoded data removed]",
      "text/plain": [
       "<Figure size 432x288 with 1 Axes>"
      ]
     },
     "metadata": {},
     "output_type": "display_data"
    }
   ],
   "source": [
    "# debug\n",
    "# .T does diagonal transform\n",
    "plt.imshow(images[0].T, cmap='Greys', interpolation='none', origin='lower', extent=[0, image_size, 0, image_size])\n",
    "for bounding_box in bounding_boxes[0]:\n",
    "    # apparently draws bounding boxes\n",
    "    plt.gca().add_patch(matplotlib.patches.Rectangle((bounding_box[0], bounding_box[1]), bounding_box[2], bounding_box[3], ec='r', fc='none'))"
   ]
  },
  {
   "cell_type": "code",
   "execution_count": 4,
   "metadata": {},
   "outputs": [
    {
     "name": "stdout",
     "output_type": "stream",
     "text": [
      "(50000, 64) -0.19588560700360333 0.24234195739806866\n",
      "(50000, 4) 0.2807225 0.1750732967752364\n"
     ]
    }
   ],
   "source": [
    "# normalize data to mean 0 and std 1, -1 means dimension is unknown\n",
    "X = (images.reshape(no_of_images, -1) - np.mean(images) / np.std(images))\n",
    "print(X.shape, np.mean(X), np.std(X))\n",
    "\n",
    "# normalize x, y, w, h by image_size, so all values are between 0 and 1\n",
    "y = bounding_boxes.reshape(no_of_images, -1) / image_size\n",
    "print(y.shape, np.mean(y), np.std(y))"
   ]
  },
  {
   "cell_type": "code",
   "execution_count": 5,
   "metadata": {},
   "outputs": [],
   "source": [
    "# split training and test dataset\n",
    "split = int(0.8 * no_of_images)\n",
    "train_X = X[:split]\n",
    "test_X = X[split:]\n",
    "train_y = y[:split]\n",
    "test_y = y[split:]\n",
    "\n",
    "# test images\n",
    "test_images = images[split:]\n",
    "test_boxes = bounding_boxes[split:]"
   ]
  },
  {
   "cell_type": "code",
   "execution_count": 6,
   "metadata": {},
   "outputs": [],
   "source": [
    "# build the model\n",
    "model = Sequential([\n",
    "    Dense(200, input_dim=X.shape[-1]),\n",
    "    Activation('relu'),\n",
    "    Dropout(0.2),\n",
    "    Dense(y.shape[-1])\n",
    "])\n",
    "model.compile('adadelta', 'mse')"
   ]
  },
  {
   "cell_type": "code",
   "execution_count": 14,
   "metadata": {},
   "outputs": [],
   "source": [
    "# visualization\n",
    "callback = keras.callbacks.TensorBoard(log_dir='./graph',\n",
    "                                      histogram_freq=0,\n",
    "                                      write_graph=True,\n",
    "                                      write_images=True)"
   ]
  },
  {
   "cell_type": "code",
   "execution_count": 15,
   "metadata": {},
   "outputs": [
    {
     "name": "stdout",
     "output_type": "stream",
     "text": [
      "Train on 40000 samples, validate on 10000 samples\n",
      "Epoch 1/30\n",
      " - 2s - loss: 6.9336e-04 - val_loss: 6.7478e-05\n",
      "Epoch 2/30\n",
      " - 2s - loss: 6.8115e-04 - val_loss: 7.5242e-05\n",
      "Epoch 3/30\n",
      " - 2s - loss: 6.8095e-04 - val_loss: 7.3410e-05\n",
      "Epoch 4/30\n",
      " - 2s - loss: 6.7428e-04 - val_loss: 6.9367e-05\n",
      "Epoch 5/30\n",
      " - 2s - loss: 6.6464e-04 - val_loss: 4.7884e-05\n",
      "Epoch 6/30\n",
      " - 2s - loss: 6.7027e-04 - val_loss: 6.8817e-05\n",
      "Epoch 7/30\n",
      " - 2s - loss: 6.6421e-04 - val_loss: 8.5312e-05\n",
      "Epoch 8/30\n",
      " - 2s - loss: 6.6528e-04 - val_loss: 7.5862e-05\n",
      "Epoch 9/30\n",
      " - 2s - loss: 6.5971e-04 - val_loss: 3.8739e-05\n",
      "Epoch 10/30\n",
      " - 2s - loss: 6.5490e-04 - val_loss: 6.0178e-05\n",
      "Epoch 11/30\n",
      " - 2s - loss: 6.4746e-04 - val_loss: 5.5882e-05\n",
      "Epoch 12/30\n",
      " - 2s - loss: 6.4622e-04 - val_loss: 3.8419e-05\n",
      "Epoch 13/30\n",
      " - 2s - loss: 6.4849e-04 - val_loss: 5.9187e-05\n",
      "Epoch 14/30\n",
      " - 2s - loss: 6.4278e-04 - val_loss: 4.0222e-05\n",
      "Epoch 15/30\n",
      " - 2s - loss: 6.4002e-04 - val_loss: 5.1836e-05\n",
      "Epoch 16/30\n",
      " - 2s - loss: 6.3685e-04 - val_loss: 4.6787e-05\n",
      "Epoch 17/30\n",
      " - 2s - loss: 6.3772e-04 - val_loss: 3.9550e-05\n",
      "Epoch 18/30\n",
      " - 2s - loss: 6.3366e-04 - val_loss: 6.0218e-05\n",
      "Epoch 19/30\n",
      " - 2s - loss: 6.3193e-04 - val_loss: 5.6401e-05\n",
      "Epoch 20/30\n",
      " - 2s - loss: 6.3739e-04 - val_loss: 4.0302e-05\n",
      "Epoch 21/30\n",
      " - 2s - loss: 6.3090e-04 - val_loss: 3.8916e-05\n",
      "Epoch 22/30\n",
      " - 2s - loss: 6.3100e-04 - val_loss: 4.7616e-05\n",
      "Epoch 23/30\n",
      " - 2s - loss: 6.2401e-04 - val_loss: 4.9246e-05\n",
      "Epoch 24/30\n",
      " - 2s - loss: 6.2413e-04 - val_loss: 4.5459e-05\n",
      "Epoch 25/30\n",
      " - 2s - loss: 6.2572e-04 - val_loss: 6.5727e-05\n",
      "Epoch 26/30\n",
      " - 2s - loss: 6.2173e-04 - val_loss: 4.4642e-05\n",
      "Epoch 27/30\n",
      " - 2s - loss: 6.1819e-04 - val_loss: 3.1159e-05\n",
      "Epoch 28/30\n",
      " - 2s - loss: 6.1366e-04 - val_loss: 4.2742e-05\n",
      "Epoch 29/30\n",
      " - 2s - loss: 6.2577e-04 - val_loss: 3.7845e-05\n",
      "Epoch 30/30\n",
      " - 2s - loss: 6.1549e-04 - val_loss: 5.1041e-05\n"
     ]
    },
    {
     "data": {
      "text/plain": [
       "<keras.callbacks.History at 0x7f7fbc7bc4a8>"
      ]
     },
     "execution_count": 15,
     "metadata": {},
     "output_type": "execute_result"
    }
   ],
   "source": [
    "# train the model\n",
    "model.fit(train_X, train_y, epochs=30, validation_data=(test_X, test_y), verbose=2, callbacks=[callback])"
   ]
  },
  {
   "cell_type": "code",
   "execution_count": 8,
   "metadata": {},
   "outputs": [
    {
     "data": {
      "text/plain": [
       "(10000, 1, 4)"
      ]
     },
     "execution_count": 8,
     "metadata": {},
     "output_type": "execute_result"
    }
   ],
   "source": [
    "# predict bounding boxes for test data\n",
    "predicted_y = model.predict(test_X)\n",
    "predicted_boxes = predicted_y * image_size\n",
    "predicted_boxes = predicted_boxes.reshape(len(predicted_boxes), no_of_objects, -1)\n",
    "predicted_boxes.shape"
   ]
  },
  {
   "cell_type": "code",
   "execution_count": 9,
   "metadata": {},
   "outputs": [],
   "source": [
    "# calculate overlap between two bounding boxes\n",
    "def IOU(box_1, box_2):\n",
    "    x1, y1, w1, h1 = box_1[0], box_1[1], box_1[2], box_1[3]\n",
    "    x2, y2, w2, h2 = box_2[0], box_2[1], box_2[2], box_2[3]\n",
    "    \n",
    "    w_I = min(x1 + w1, x2 + w2) - max(x1, x2)\n",
    "    h_I = min(y1 + h1, y2 + h2) - max(y1, y2)\n",
    "    \n",
    "    if w_I <= 0 or h_I <= 0: # no overlap\n",
    "        return 0\n",
    "    \n",
    "    I = w_I * h_I\n",
    "    U = w1 * h1 + w2 * h2 - I\n",
    "    \n",
    "    return I/U"
   ]
  },
  {
   "cell_type": "code",
   "execution_count": 10,
   "metadata": {},
   "outputs": [
    {
     "data": {
      "image/png": "[encoded data removed]",
      "text/plain": [
       "<Figure size 864x216 with 4 Axes>"
      ]
     },
     "metadata": {},
     "output_type": "display_data"
    }
   ],
   "source": [
    "# draw sample predictions\n",
    "plt.figure(figsize=(12, 3))\n",
    "for i_subplot in range(1, 5):\n",
    "    plt.subplot(1, 4, i_subplot)\n",
    "    i = np.random.randint(len(test_images))\n",
    "    plt.imshow(test_images[i].T, cmap='Greys', interpolation='none', origin='lower', extent=[0, image_size, 0, image_size])\n",
    "    \n",
    "    for predicted_box, expected_box in zip(predicted_boxes[i], test_boxes[i]):\n",
    "        plt.gca().add_patch(matplotlib.patches.Rectangle((predicted_box[0], predicted_box[1]), predicted_box[2], predicted_box[3], ec='r', fc='none'))\n",
    "        plt.annotate('IOU: {:.2f}'.format(IOU(predicted_box, expected_box)), (predicted_box[0], predicted_box[1] + predicted_box[3] + 0.2), color='r')"
   ]
  },
  {
   "cell_type": "code",
   "execution_count": 11,
   "metadata": {},
   "outputs": [
    {
     "name": "stdout",
     "output_type": "stream",
     "text": [
      "0.8474378298368797\n"
     ]
    }
   ],
   "source": [
    "# mean IOU\n",
    "summed_IOU = 0\n",
    "for predicted_box, test_box in zip(predicted_boxes.reshape(-1, 4), test_boxes.reshape(-1, 4)):\n",
    "    summed_IOU += IOU(predicted_box, test_box)\n",
    "\n",
    "mean_IOU = summed_IOU / len(predicted_boxes)\n",
    "print(mean_IOU)"
   ]
  },
  {
   "cell_type": "code",
   "execution_count": 12,
   "metadata": {},
   "outputs": [
    {
     "data": {
      "image/svg+xml": [
       "<svg height=\"337pt\" viewBox=\"0.00 0.00 171.00 337.00\" width=\"171pt\" xmlns=\"http://www.w3.org/2000/svg\" xmlns:xlink=\"http://www.w3.org/1999/xlink\">\n",
       "<g class=\"graph\" id=\"graph0\" transform=\"scale(1 1) rotate(0) translate(4 333)\">\n",
       "<title>G</title>\n",
       "<polygon fill=\"white\" points=\"-4,4 -4,-333 167,-333 167,4 -4,4\" stroke=\"none\"/>\n",
       "<!-- 140186747663584 -->\n",
       "<g class=\"node\" id=\"node1\"><title>140186747663584</title>\n",
       "<polygon fill=\"none\" points=\"0,-292.5 0,-328.5 163,-328.5 163,-292.5 0,-292.5\" stroke=\"black\"/>\n",
       "<text font-family=\"Times,serif\" font-size=\"14.00\" text-anchor=\"middle\" x=\"81.5\" y=\"-306.8\">dense_1_input: InputLayer</text>\n",
       "</g>\n",
       "<!-- 140186747614320 -->\n",
       "<g class=\"node\" id=\"node2\"><title>140186747614320</title>\n",
       "<polygon fill=\"none\" points=\"30.5,-219.5 30.5,-255.5 132.5,-255.5 132.5,-219.5 30.5,-219.5\" stroke=\"black\"/>\n",
       "<text font-family=\"Times,serif\" font-size=\"14.00\" text-anchor=\"middle\" x=\"81.5\" y=\"-233.8\">dense_1: Dense</text>\n",
       "</g>\n",
       "<!-- 140186747663584&#45;&gt;140186747614320 -->\n",
       "<g class=\"edge\" id=\"edge1\"><title>140186747663584-&gt;140186747614320</title>\n",
       "<path d=\"M81.5,-292.313C81.5,-284.289 81.5,-274.547 81.5,-265.569\" fill=\"none\" stroke=\"black\"/>\n",
       "<polygon fill=\"black\" points=\"85.0001,-265.529 81.5,-255.529 78.0001,-265.529 85.0001,-265.529\" stroke=\"black\"/>\n",
       "</g>\n",
       "<!-- 140186747614432 -->\n",
       "<g class=\"node\" id=\"node3\"><title>140186747614432</title>\n",
       "<polygon fill=\"none\" points=\"7.5,-146.5 7.5,-182.5 155.5,-182.5 155.5,-146.5 7.5,-146.5\" stroke=\"black\"/>\n",
       "<text font-family=\"Times,serif\" font-size=\"14.00\" text-anchor=\"middle\" x=\"81.5\" y=\"-160.8\">activation_1: Activation</text>\n",
       "</g>\n",
       "<!-- 140186747614320&#45;&gt;140186747614432 -->\n",
       "<g class=\"edge\" id=\"edge2\"><title>140186747614320-&gt;140186747614432</title>\n",
       "<path d=\"M81.5,-219.313C81.5,-211.289 81.5,-201.547 81.5,-192.569\" fill=\"none\" stroke=\"black\"/>\n",
       "<polygon fill=\"black\" points=\"85.0001,-192.529 81.5,-182.529 78.0001,-192.529 85.0001,-192.529\" stroke=\"black\"/>\n",
       "</g>\n",
       "<!-- 140186747616616 -->\n",
       "<g class=\"node\" id=\"node4\"><title>140186747616616</title>\n",
       "<polygon fill=\"none\" points=\"19,-73.5 19,-109.5 144,-109.5 144,-73.5 19,-73.5\" stroke=\"black\"/>\n",
       "<text font-family=\"Times,serif\" font-size=\"14.00\" text-anchor=\"middle\" x=\"81.5\" y=\"-87.8\">dropout_1: Dropout</text>\n",
       "</g>\n",
       "<!-- 140186747614432&#45;&gt;140186747616616 -->\n",
       "<g class=\"edge\" id=\"edge3\"><title>140186747614432-&gt;140186747616616</title>\n",
       "<path d=\"M81.5,-146.313C81.5,-138.289 81.5,-128.547 81.5,-119.569\" fill=\"none\" stroke=\"black\"/>\n",
       "<polygon fill=\"black\" points=\"85.0001,-119.529 81.5,-109.529 78.0001,-119.529 85.0001,-119.529\" stroke=\"black\"/>\n",
       "</g>\n",
       "<!-- 140186747616672 -->\n",
       "<g class=\"node\" id=\"node5\"><title>140186747616672</title>\n",
       "<polygon fill=\"none\" points=\"30.5,-0.5 30.5,-36.5 132.5,-36.5 132.5,-0.5 30.5,-0.5\" stroke=\"black\"/>\n",
       "<text font-family=\"Times,serif\" font-size=\"14.00\" text-anchor=\"middle\" x=\"81.5\" y=\"-14.8\">dense_2: Dense</text>\n",
       "</g>\n",
       "<!-- 140186747616616&#45;&gt;140186747616672 -->\n",
       "<g class=\"edge\" id=\"edge4\"><title>140186747616616-&gt;140186747616672</title>\n",
       "<path d=\"M81.5,-73.3129C81.5,-65.2895 81.5,-55.5475 81.5,-46.5691\" fill=\"none\" stroke=\"black\"/>\n",
       "<polygon fill=\"black\" points=\"85.0001,-46.5288 81.5,-36.5288 78.0001,-46.5289 85.0001,-46.5288\" stroke=\"black\"/>\n",
       "</g>\n",
       "</g>\n",
       "</svg>"
      ],
      "text/plain": [
       "<IPython.core.display.SVG object>"
      ]
     },
     "execution_count": 12,
     "metadata": {},
     "output_type": "execute_result"
    }
   ],
   "source": [
    "# visualize the model\n",
    "SVG(model_to_dot(model).create(prog='dot', format='svg'))"
   ]
  }
 ],
 "metadata": {
  "kernelspec": {
   "display_name": "Python 3",
   "language": "python",
   "name": "python3"
  },
  "language_info": {
   "codemirror_mode": {
    "name": "ipython",
    "version": 3
   },
   "file_extension": ".py",
   "mimetype": "text/x-python",
   "name": "python",
   "nbconvert_exporter": "python",
   "pygments_lexer": "ipython3",
   "version": "3.5.3"
  }
 },
 "nbformat": 4,
 "nbformat_minor": 2
}
