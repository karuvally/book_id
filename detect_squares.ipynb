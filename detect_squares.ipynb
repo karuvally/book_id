{
 "cells": [
  {
   "cell_type": "code",
   "execution_count": 6,
   "metadata": {},
   "outputs": [],
   "source": [
    "# import the serious stuff\n",
    "import numpy as np\n",
    "import matplotlib.pyplot as plt\n",
    "import matplotlib\n",
    "\n",
    "from keras.models import Sequential\n",
    "from keras.layers import Dense, Activation, Dropout\n",
    "from keras.optimizers import SGD"
   ]
  },
  {
   "cell_type": "code",
   "execution_count": 7,
   "metadata": {},
   "outputs": [],
   "source": [
    "# create random images\n",
    "no_of_images = 50000\n",
    "image_size = 8\n",
    "min_object_size = 1\n",
    "max_object_size = 4\n",
    "no_of_objects = 1 # number of squares in an image\n",
    "\n",
    "# stores list of boundary of every object\n",
    "bounding_boxes = np.zeros((no_of_images, no_of_objects, 4))\n",
    "\n",
    "# list of images\n",
    "images = np.zeros((no_of_images, image_size, image_size))\n",
    "\n",
    "for i_image in range(no_of_images):\n",
    "    for i_object in range(no_of_objects):\n",
    "        # size is the no of random variables to be generated\n",
    "        w, h = np.random.randint(min_object_size, max_object_size, size=2)\n",
    "        x = np.random.randint(0, image_size - w)\n",
    "        y = np.random.randint(0, image_size - h)\n",
    "        images[i_image, x:x+w, y:y+h] = 1.\n",
    "        bounding_boxes[i_image, i_object] = [x, y, w, h]"
   ]
  },
  {
   "cell_type": "code",
   "execution_count": 8,
   "metadata": {},
   "outputs": [
    {
     "data": {
      "image/png": "[encoded data removed]",
      "text/plain": [
       "<Figure size 432x288 with 1 Axes>"
      ]
     },
     "metadata": {},
     "output_type": "display_data"
    }
   ],
   "source": [
    "# debug\n",
    "# .T does diagonal transform\n",
    "plt.imshow(images[0].T, cmap='Greys', interpolation='none', origin='lower', extent=[0, image_size, 0, image_size])\n",
    "for bounding_box in bounding_boxes[0]:\n",
    "    # apparently draws bounding boxes\n",
    "    plt.gca().add_patch(matplotlib.patches.Rectangle((bounding_box[0], bounding_box[1]), bounding_box[2], bounding_box[3], ec='r', fc='none'))"
   ]
  },
  {
   "cell_type": "code",
   "execution_count": 10,
   "metadata": {},
   "outputs": [
    {
     "name": "stdout",
     "output_type": "stream",
     "text": [
      "(50000, 64) -0.19552953647753504 0.24180712013836428\n",
      "(50000, 4) 0.281054375 0.17517067796397712\n"
     ]
    }
   ],
   "source": [
    "# normalize data to mean 0 and std 1, -1 means dimension is unknown\n",
    "X = (images.reshape(no_of_images, -1) - np.mean(images) / np.std(images))\n",
    "print(X.shape, np.mean(X), np.std(X))\n",
    "\n",
    "# normalize x, y, w, h by image_size, so all values are between 0 and 1\n",
    "y = bounding_boxes.reshape(no_of_images, -1) / image_size\n",
    "print(y.shape, np.mean(y), np.std(y))"
   ]
  },
  {
   "cell_type": "code",
   "execution_count": 11,
   "metadata": {},
   "outputs": [],
   "source": [
    "# split training and test dataset\n",
    "split = int(0.8 * no_of_images)\n",
    "train_X = X[:split]\n",
    "test_X = X[split:]\n",
    "train_y = y[:split]\n",
    "test_y = y[split:]\n",
    "\n",
    "# test images\n",
    "test_images = images[split:]\n",
    "test_boxes = bounding_boxes[split:]"
   ]
  },
  {
   "cell_type": "code",
   "execution_count": 14,
   "metadata": {},
   "outputs": [],
   "source": [
    "# build the model\n",
    "model = Sequential([\n",
    "    Dense(200, input_dim=X.shape[-1]),\n",
    "    Activation('relu'),\n",
    "    Dropout(0.2),\n",
    "    Dense(y.shape[-1])\n",
    "])\n",
    "model.compile('adadelta', 'mse')"
   ]
  },
  {
   "cell_type": "code",
   "execution_count": 16,
   "metadata": {},
   "outputs": [
    {
     "name": "stdout",
     "output_type": "stream",
     "text": [
      "Train on 40000 samples, validate on 10000 samples\n",
      "Epoch 1/30\n",
      " - 2s - loss: 6.8532e-04 - val_loss: 4.8305e-05\n",
      "Epoch 2/30\n",
      " - 2s - loss: 6.8230e-04 - val_loss: 7.4917e-05\n",
      "Epoch 3/30\n",
      " - 2s - loss: 6.7230e-04 - val_loss: 4.6223e-05\n",
      "Epoch 4/30\n",
      " - 2s - loss: 6.7354e-04 - val_loss: 4.8046e-05\n",
      "Epoch 5/30\n",
      " - 2s - loss: 6.6591e-04 - val_loss: 4.4772e-05\n",
      "Epoch 6/30\n",
      " - 2s - loss: 6.5618e-04 - val_loss: 4.7988e-05\n",
      "Epoch 7/30\n",
      " - 2s - loss: 6.6021e-04 - val_loss: 6.2910e-05\n",
      "Epoch 8/30\n",
      " - 2s - loss: 6.5382e-04 - val_loss: 4.4253e-05\n",
      "Epoch 9/30\n",
      " - 2s - loss: 6.4927e-04 - val_loss: 4.0142e-05\n",
      "Epoch 10/30\n",
      " - 2s - loss: 6.4906e-04 - val_loss: 5.5269e-05\n",
      "Epoch 11/30\n",
      " - 2s - loss: 6.4442e-04 - val_loss: 4.4645e-05\n",
      "Epoch 12/30\n",
      " - 2s - loss: 6.4795e-04 - val_loss: 4.1479e-05\n",
      "Epoch 13/30\n",
      " - 2s - loss: 6.2917e-04 - val_loss: 4.8749e-05\n",
      "Epoch 14/30\n",
      " - 2s - loss: 6.3329e-04 - val_loss: 5.9071e-05\n",
      "Epoch 15/30\n",
      " - 2s - loss: 6.3285e-04 - val_loss: 3.2835e-05\n",
      "Epoch 16/30\n",
      " - 2s - loss: 6.2969e-04 - val_loss: 4.4694e-05\n",
      "Epoch 17/30\n",
      " - 2s - loss: 6.2471e-04 - val_loss: 2.8593e-05\n",
      "Epoch 18/30\n",
      " - 2s - loss: 6.2447e-04 - val_loss: 3.3069e-05\n",
      "Epoch 19/30\n",
      " - 2s - loss: 6.2056e-04 - val_loss: 3.7542e-05\n",
      "Epoch 20/30\n",
      " - 2s - loss: 6.1874e-04 - val_loss: 3.9414e-05\n",
      "Epoch 21/30\n",
      " - 2s - loss: 6.1922e-04 - val_loss: 4.1396e-05\n",
      "Epoch 22/30\n",
      " - 2s - loss: 6.1868e-04 - val_loss: 5.0246e-05\n",
      "Epoch 23/30\n",
      " - 2s - loss: 6.1756e-04 - val_loss: 6.1494e-05\n",
      "Epoch 24/30\n",
      " - 2s - loss: 6.0698e-04 - val_loss: 4.0527e-05\n",
      "Epoch 25/30\n",
      " - 2s - loss: 6.1081e-04 - val_loss: 4.1621e-05\n",
      "Epoch 26/30\n",
      " - 2s - loss: 6.0431e-04 - val_loss: 4.3602e-05\n",
      "Epoch 27/30\n",
      " - 2s - loss: 6.0684e-04 - val_loss: 3.2164e-05\n",
      "Epoch 28/30\n",
      " - 2s - loss: 6.1010e-04 - val_loss: 5.2208e-05\n",
      "Epoch 29/30\n",
      " - 2s - loss: 6.0198e-04 - val_loss: 4.3576e-05\n",
      "Epoch 30/30\n",
      " - 2s - loss: 5.9664e-04 - val_loss: 5.9485e-05\n"
     ]
    },
    {
     "data": {
      "text/plain": [
       "<keras.callbacks.History at 0x7f29c28f6898>"
      ]
     },
     "execution_count": 16,
     "metadata": {},
     "output_type": "execute_result"
    }
   ],
   "source": [
    "# train the model\n",
    "model.fit(train_X, train_y, epochs=30, validation_data=(test_X, test_y), verbose=2)"
   ]
  },
  {
   "cell_type": "code",
   "execution_count": 21,
   "metadata": {},
   "outputs": [
    {
     "data": {
      "text/plain": [
       "(10000, 1, 4)"
      ]
     },
     "execution_count": 21,
     "metadata": {},
     "output_type": "execute_result"
    }
   ],
   "source": [
    "# predict bounding boxes for test data\n",
    "predicted_y = model.predict(test_X)\n",
    "predicted_boxes = predicted_y * image_size\n",
    "predicted_boxes = predicted_boxes.reshape(len(predicted_boxes), no_of_objects, -1)\n",
    "predicted_boxes.shape"
   ]
  },
  {
   "cell_type": "code",
   "execution_count": null,
   "metadata": {},
   "outputs": [],
   "source": [
    "# calculate overlap between two bounding boxes\n",
    "def IOU(box_1, box_2):\n",
    "    x1, y1, w1, h1 = box_1[0], box_1[1], box_1[2], box_1[3]\n",
    "    x2, y2, w2, h2 = box_2[0], box_2[1], box_2[2], box_2[3]"
   ]
  }
 ],
 "metadata": {
  "kernelspec": {
   "display_name": "Python 3",
   "language": "python",
   "name": "python3"
  },
  "language_info": {
   "codemirror_mode": {
    "name": "ipython",
    "version": 3
   },
   "file_extension": ".py",
   "mimetype": "text/x-python",
   "name": "python",
   "nbconvert_exporter": "python",
   "pygments_lexer": "ipython3",
   "version": "3.5.3"
  }
 },
 "nbformat": 4,
 "nbformat_minor": 2
}
