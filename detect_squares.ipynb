{
 "cells": [
  {
   "cell_type": "code",
   "execution_count": 21,
   "metadata": {},
   "outputs": [],
   "source": [
    "# import the serious stuff\n",
    "import numpy as np\n",
    "import matplotlib.pyplot as plt\n",
    "import matplotlib\n",
    "\n",
    "from keras.models import Sequential\n",
    "from keras.layers import Dense, Activation, Dropout\n",
    "from keras.optimizers import SGD"
   ]
  },
  {
   "cell_type": "code",
   "execution_count": 22,
   "metadata": {},
   "outputs": [],
   "source": [
    "# create random images\n",
    "no_of_images = 50000\n",
    "image_size = 8\n",
    "min_object_size = 1\n",
    "max_object_size = 4\n",
    "no_of_objects = 1 # number of squares in an image\n",
    "\n",
    "# stores list of boundary of every object\n",
    "bounding_boxes = np.zeros((no_of_images, no_of_objects, 4))\n",
    "\n",
    "# list of images\n",
    "images = np.zeros((no_of_images, image_size, image_size))\n",
    "\n",
    "for i_image in range(no_of_images):\n",
    "    for i_object in range(no_of_objects):\n",
    "        # size is the no of random variables to be generated\n",
    "        w, h = np.random.randint(min_object_size, max_object_size, size=2)\n",
    "        x = np.random.randint(0, image_size - w)\n",
    "        y = np.random.randint(0, image_size - h)\n",
    "        images[i_image, x:x+w, y:y+h] = 1.\n",
    "        bounding_boxes[i_image, i_object] = [x, y, w, h]"
   ]
  },
  {
   "cell_type": "code",
   "execution_count": 23,
   "metadata": {},
   "outputs": [
    {
     "data": {
      "image/png": "[encoded data removed]",
      "text/plain": [
       "<Figure size 432x288 with 1 Axes>"
      ]
     },
     "metadata": {},
     "output_type": "display_data"
    }
   ],
   "source": [
    "# debug\n",
    "# .T does diagonal transform\n",
    "plt.imshow(images[0].T, cmap='Greys', interpolation='none', origin='lower', extent=[0, image_size, 0, image_size])\n",
    "for bounding_box in bounding_boxes[0]:\n",
    "    # apparently draws bounding boxes\n",
    "    plt.gca().add_patch(matplotlib.patches.Rectangle((bounding_box[0], bounding_box[1]), bounding_box[2], bounding_box[3], ec='r', fc='none'))"
   ]
  },
  {
   "cell_type": "code",
   "execution_count": 24,
   "metadata": {},
   "outputs": [
    {
     "name": "stdout",
     "output_type": "stream",
     "text": [
      "(50000, 64) -0.19534179253455775 0.2415252439931228\n",
      "(50000, 4) 0.280656875 0.175035486802632\n"
     ]
    }
   ],
   "source": [
    "# normalize data to mean 0 and std 1, -1 means dimension is unknown\n",
    "X = (images.reshape(no_of_images, -1) - np.mean(images) / np.std(images))\n",
    "print(X.shape, np.mean(X), np.std(X))\n",
    "\n",
    "# normalize x, y, w, h by image_size, so all values are between 0 and 1\n",
    "y = bounding_boxes.reshape(no_of_images, -1) / image_size\n",
    "print(y.shape, np.mean(y), np.std(y))"
   ]
  },
  {
   "cell_type": "code",
   "execution_count": 25,
   "metadata": {},
   "outputs": [],
   "source": [
    "# split training and test dataset\n",
    "split = int(0.8 * no_of_images)\n",
    "train_X = X[:split]\n",
    "test_X = X[split:]\n",
    "train_y = y[:split]\n",
    "test_y = y[split:]\n",
    "\n",
    "# test images\n",
    "test_images = images[split:]\n",
    "test_boxes = bounding_boxes[split:]"
   ]
  },
  {
   "cell_type": "code",
   "execution_count": 26,
   "metadata": {},
   "outputs": [],
   "source": [
    "# build the model\n",
    "model = Sequential([\n",
    "    Dense(200, input_dim=X.shape[-1]),\n",
    "    Activation('relu'),\n",
    "    Dropout(0.2),\n",
    "    Dense(y.shape[-1])\n",
    "])\n",
    "model.compile('adadelta', 'mse')"
   ]
  },
  {
   "cell_type": "code",
   "execution_count": 27,
   "metadata": {},
   "outputs": [
    {
     "name": "stdout",
     "output_type": "stream",
     "text": [
      "Train on 40000 samples, validate on 10000 samples\n",
      "Epoch 1/30\n",
      " - 2s - loss: 0.0074 - val_loss: 0.0014\n",
      "Epoch 2/30\n",
      " - 2s - loss: 0.0027 - val_loss: 7.4267e-04\n",
      "Epoch 3/30\n",
      " - 2s - loss: 0.0019 - val_loss: 5.1937e-04\n",
      "Epoch 4/30\n",
      " - 2s - loss: 0.0016 - val_loss: 3.8891e-04\n",
      "Epoch 5/30\n",
      " - 2s - loss: 0.0014 - val_loss: 2.9620e-04\n",
      "Epoch 6/30\n",
      " - 2s - loss: 0.0012 - val_loss: 2.8689e-04\n",
      "Epoch 7/30\n",
      " - 2s - loss: 0.0011 - val_loss: 1.9887e-04\n",
      "Epoch 8/30\n",
      " - 2s - loss: 0.0011 - val_loss: 1.4842e-04\n",
      "Epoch 9/30\n",
      " - 2s - loss: 0.0010 - val_loss: 1.4845e-04\n",
      "Epoch 10/30\n",
      " - 2s - loss: 9.5538e-04 - val_loss: 1.1287e-04\n",
      "Epoch 11/30\n",
      " - 2s - loss: 9.1558e-04 - val_loss: 1.0283e-04\n",
      "Epoch 12/30\n",
      " - 2s - loss: 8.8856e-04 - val_loss: 9.0422e-05\n",
      "Epoch 13/30\n",
      " - 2s - loss: 8.4831e-04 - val_loss: 1.0184e-04\n",
      "Epoch 14/30\n",
      " - 2s - loss: 8.3445e-04 - val_loss: 9.6692e-05\n",
      "Epoch 15/30\n",
      " - 2s - loss: 8.1849e-04 - val_loss: 8.2216e-05\n",
      "Epoch 16/30\n",
      " - 2s - loss: 8.0973e-04 - val_loss: 1.0457e-04\n",
      "Epoch 17/30\n",
      " - 2s - loss: 7.8044e-04 - val_loss: 8.7732e-05\n",
      "Epoch 18/30\n",
      " - 2s - loss: 7.6182e-04 - val_loss: 8.4541e-05\n",
      "Epoch 19/30\n",
      " - 2s - loss: 7.5866e-04 - val_loss: 6.0518e-05\n",
      "Epoch 20/30\n",
      " - 2s - loss: 7.4413e-04 - val_loss: 8.7481e-05\n",
      "Epoch 21/30\n",
      " - 2s - loss: 7.3218e-04 - val_loss: 6.9958e-05\n",
      "Epoch 22/30\n",
      " - 2s - loss: 7.2539e-04 - val_loss: 6.7781e-05\n",
      "Epoch 23/30\n",
      " - 2s - loss: 7.1870e-04 - val_loss: 7.2445e-05\n",
      "Epoch 24/30\n",
      " - 2s - loss: 7.0929e-04 - val_loss: 6.5964e-05\n",
      "Epoch 25/30\n",
      " - 2s - loss: 7.0575e-04 - val_loss: 4.1583e-05\n",
      "Epoch 26/30\n",
      " - 2s - loss: 6.9651e-04 - val_loss: 7.6017e-05\n",
      "Epoch 27/30\n",
      " - 2s - loss: 6.8666e-04 - val_loss: 7.0492e-05\n",
      "Epoch 28/30\n",
      " - 2s - loss: 6.8260e-04 - val_loss: 5.9670e-05\n",
      "Epoch 29/30\n",
      " - 2s - loss: 6.7962e-04 - val_loss: 4.5632e-05\n",
      "Epoch 30/30\n",
      " - 2s - loss: 6.7016e-04 - val_loss: 4.5721e-05\n"
     ]
    },
    {
     "data": {
      "text/plain": [
       "<keras.callbacks.History at 0x7f5f259a6400>"
      ]
     },
     "execution_count": 27,
     "metadata": {},
     "output_type": "execute_result"
    }
   ],
   "source": [
    "# train the model\n",
    "model.fit(train_X, train_y, epochs=30, validation_data=(test_X, test_y), verbose=2)"
   ]
  },
  {
   "cell_type": "code",
   "execution_count": 28,
   "metadata": {},
   "outputs": [
    {
     "data": {
      "text/plain": [
       "(10000, 1, 4)"
      ]
     },
     "execution_count": 28,
     "metadata": {},
     "output_type": "execute_result"
    }
   ],
   "source": [
    "# predict bounding boxes for test data\n",
    "predicted_y = model.predict(test_X)\n",
    "predicted_boxes = predicted_y * image_size\n",
    "predicted_boxes = predicted_boxes.reshape(len(predicted_boxes), no_of_objects, -1)\n",
    "predicted_boxes.shape"
   ]
  },
  {
   "cell_type": "code",
   "execution_count": 29,
   "metadata": {},
   "outputs": [],
   "source": [
    "# calculate overlap between two bounding boxes\n",
    "def IOU(box_1, box_2):\n",
    "    x1, y1, w1, h1 = box_1[0], box_1[1], box_1[2], box_1[3]\n",
    "    x2, y2, w2, h2 = box_2[0], box_2[1], box_2[2], box_2[3]\n",
    "    \n",
    "    w_I = min(x1 + w1, x2 + w2) - max(x1, x2)\n",
    "    h_I = min(y1 + h1, y2 + h2) - max(y1, y2)\n",
    "    \n",
    "    if w_I <= 0 or h_I <= 0: # no overlap\n",
    "        return 0\n",
    "    \n",
    "    I = w_I * h_I\n",
    "    U = w1 * h1 + w2 * h2 - I\n",
    "    \n",
    "    return I/U"
   ]
  },
  {
   "cell_type": "code",
   "execution_count": 30,
   "metadata": {},
   "outputs": [
    {
     "data": {
      "image/png": "[encoded data removed]",
      "text/plain": [
       "<Figure size 864x216 with 4 Axes>"
      ]
     },
     "metadata": {},
     "output_type": "display_data"
    }
   ],
   "source": [
    "# draw sample predictions\n",
    "plt.figure(figsize=(12, 3))\n",
    "for i_subplot in range(1, 5):\n",
    "    plt.subplot(1, 4, i_subplot)\n",
    "    i = np.random.randint(len(test_images))\n",
    "    plt.imshow(test_images[i].T, cmap='Greys', interpolation='none', origin='lower', extent=[0, image_size, 0, image_size])\n",
    "    \n",
    "    for predicted_box, expected_box in zip(predicted_boxes[i], test_boxes[i]):\n",
    "        plt.gca().add_patch(matplotlib.patches.Rectangle((predicted_box[0], predicted_box[1]), predicted_box[2], predicted_box[3], ec='r', fc='none'))\n",
    "        plt.annotate('IOU: {:.2f}'.format(IOU(predicted_box, expected_box)), (predicted_box[0], predicted_box[1] + predicted_box[3] + 0.2), color='r')"
   ]
  },
  {
   "cell_type": "code",
   "execution_count": 31,
   "metadata": {},
   "outputs": [
    {
     "name": "stdout",
     "output_type": "stream",
     "text": [
      "0.8828367740174512\n"
     ]
    }
   ],
   "source": [
    "# mean IOU\n",
    "summed_IOU = 0\n",
    "for predicted_box, test_box in zip(predicted_boxes.reshape(-1, 4), test_boxes.reshape(-1, 4)):\n",
    "    summed_IOU += IOU(predicted_box, test_box)\n",
    "\n",
    "mean_IOU = summed_IOU / len(predicted_boxes)\n",
    "print(mean_IOU)"
   ]
  },
  {
   "cell_type": "code",
   "execution_count": null,
   "metadata": {},
   "outputs": [],
   "source": []
  }
 ],
 "metadata": {
  "kernelspec": {
   "display_name": "Python 3",
   "language": "python",
   "name": "python3"
  },
  "language_info": {
   "codemirror_mode": {
    "name": "ipython",
    "version": 3
   },
   "file_extension": ".py",
   "mimetype": "text/x-python",
   "name": "python",
   "nbconvert_exporter": "python",
   "pygments_lexer": "ipython3",
   "version": "3.5.3"
  }
 },
 "nbformat": 4,
 "nbformat_minor": 2
}
