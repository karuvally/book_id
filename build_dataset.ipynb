{
 "cells": [
  {
   "cell_type": "code",
   "execution_count": 4,
   "metadata": {},
   "outputs": [],
   "source": [
    "# import the serious stuff\n",
    "import requests\n",
    "import os"
   ]
  },
  {
   "cell_type": "code",
   "execution_count": 5,
   "metadata": {},
   "outputs": [],
   "source": [
    "# essential variables\n",
    "api_key = '2af5a6beb74d444c84eea84fcf2aa764'\n",
    "search_term = 'first page book'\n",
    "search_url = 'https://api.cognitive.microsoft.com/bing/v7.0/images/search'\n",
    "max_results = 1000\n",
    "group_size = 50"
   ]
  },
  {
   "cell_type": "code",
   "execution_count": 6,
   "metadata": {},
   "outputs": [
    {
     "name": "stdout",
     "output_type": "stream",
     "text": [
      "no of results is 896\n"
     ]
    }
   ],
   "source": [
    "# do the bing query\n",
    "headers = {'Ocp-Apim-Subscription-Key': api_key}\n",
    "params = {'q': search_term, 'offset': 0, 'count': group_size}\n",
    "response = requests.get(search_url, headers=headers, params=params)\n",
    "search_results = response.json()\n",
    "no_of_results = min(search_results['totalEstimatedMatches'], max_results)\n",
    "\n",
    "# status\n",
    "print('no of results is', no_of_results)"
   ]
  },
  {
   "cell_type": "code",
   "execution_count": null,
   "metadata": {},
   "outputs": [],
   "source": [
    "# download the images\n",
    "counter = 0\n",
    "for offset in range(0, no_of_results, group_size):\n",
    "    params['offset'] = offset\n",
    "    response = requests.get(search_url, headers=headers, params=params)\n",
    "    search_results = response.json()\n",
    "    \n",
    "    for result in search_results['value']:\n",
    "        image_response = requests.get(result['contentUrl'], timeout=30)\n",
    "        extension = result['contentUrl'][result['contentUrl'].rfind('.'):]\n",
    "        file_path = 'dataset/' + str(counter).zfill(4) + extension\n",
    "        \n",
    "        file = open(file_path, 'wb')\n",
    "        print('writing to', file_path)\n",
    "        file.write(image_response.content)\n",
    "        file.close()\n",
    "        \n",
    "        counter += 1"
   ]
  },
  {
   "cell_type": "code",
   "execution_count": null,
   "metadata": {},
   "outputs": [],
   "source": []
  }
 ],
 "metadata": {
  "kernelspec": {
   "display_name": "Python 3",
   "language": "python",
   "name": "python3"
  },
  "language_info": {
   "codemirror_mode": {
    "name": "ipython",
    "version": 3
   },
   "file_extension": ".py",
   "mimetype": "text/x-python",
   "name": "python",
   "nbconvert_exporter": "python",
   "pygments_lexer": "ipython3",
   "version": "3.5.3"
  }
 },
 "nbformat": 4,
 "nbformat_minor": 2
}
